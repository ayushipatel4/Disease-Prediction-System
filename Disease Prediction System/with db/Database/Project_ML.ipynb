{
 "cells": [
  {
   "cell_type": "markdown",
   "metadata": {},
   "source": [
    "# Disease Prediction based on Symtoms"
   ]
  },
  {
   "cell_type": "code",
   "execution_count": 7,
   "metadata": {},
   "outputs": [],
   "source": [
    "#Importing Libraries\n",
    "from mpl_toolkits.mplot3d import Axes3D\n",
    "from sklearn.preprocessing import StandardScaler\n",
    "import matplotlib.pyplot as plt\n",
    "from tkinter import *\n",
    "import numpy as np\n",
    "import pandas as pd\n",
    "import os"
   ]
  },
  {
   "cell_type": "code",
   "execution_count": 8,
   "metadata": {},
   "outputs": [],
   "source": [
    "#List of the symptoms is listed here in list l1.\n",
    "\n",
    "l1=['itching','skin_rash','nodal_skin_eruptions','continuous_sneezing','shivering','chills',\n",
    "    'acidity','fatigue','cough','high_fever','indigestion','headache','back_pain','swelled_lymph_nodes',\n",
    "    'malaise','blurred_and_distorted_vision','phlegm','throat_irritation','redness_of_eyes','sinus_pressure',\n",
    "    'runny_nose','congestion','chest_pain','weakness_in_limbs','neck_pain','dizziness','excessive_hunger',\n",
    "    'stiff_neck','loss_of_balance','loss_of_smell','depression','irritability','muscle_pain','dischromic _patches',\n",
    "    'watering_from_eyes','lack_of_concentration','visual_disturbances','pus_filled_pimples','blackheads','scurring']"
   ]
  },
  {
   "cell_type": "code",
   "execution_count": 9,
   "metadata": {},
   "outputs": [],
   "source": [
    "#List of Diseases is listed in list disease.\n",
    "\n",
    "disease=['Fungal infection', 'Allergy','Hypertension ', 'Migraine',\n",
    "       'Cervical spondylosis','Common Cold','Acne']\n",
    "\n",
    "#disease = [df['prognosis'].unique()]\n",
    "#print(disease)"
   ]
  },
  {
   "cell_type": "code",
   "execution_count": 10,
   "metadata": {
    "scrolled": true
   },
   "outputs": [
    {
     "name": "stdout",
     "output_type": "stream",
     "text": [
      "[0, 0, 0, 0, 0, 0, 0, 0, 0, 0, 0, 0, 0, 0, 0, 0, 0, 0, 0, 0, 0, 0, 0, 0, 0, 0, 0, 0, 0, 0, 0, 0, 0, 0, 0, 0, 0, 0, 0, 0]\n"
     ]
    }
   ],
   "source": [
    "l2=[]\n",
    "for i in range(0,len(l1)):\n",
    "    l2.append(0)\n",
    "print(l2)"
   ]
  },
  {
   "cell_type": "code",
   "execution_count": 11,
   "metadata": {},
   "outputs": [
    {
     "ename": "FileNotFoundError",
     "evalue": "[Errno 2] No such file or directory: 'dataset/trainingg.csv'",
     "output_type": "error",
     "traceback": [
      "\u001b[1;31m---------------------------------------------------------------------------\u001b[0m",
      "\u001b[1;31mFileNotFoundError\u001b[0m                         Traceback (most recent call last)",
      "\u001b[1;32m~\\AppData\\Local\\Temp\\ipykernel_3196\\2578080524.py\u001b[0m in \u001b[0;36m<module>\u001b[1;34m\u001b[0m\n\u001b[0;32m      1\u001b[0m \u001b[1;31m#Reading the training .csv file\u001b[0m\u001b[1;33m\u001b[0m\u001b[1;33m\u001b[0m\u001b[0m\n\u001b[1;32m----> 2\u001b[1;33m \u001b[0mdf\u001b[0m\u001b[1;33m=\u001b[0m\u001b[0mpd\u001b[0m\u001b[1;33m.\u001b[0m\u001b[0mread_csv\u001b[0m\u001b[1;33m(\u001b[0m\u001b[1;34m\"dataset/trainingg.csv\"\u001b[0m\u001b[1;33m)\u001b[0m\u001b[1;33m\u001b[0m\u001b[1;33m\u001b[0m\u001b[0m\n\u001b[0m\u001b[0;32m      3\u001b[0m \u001b[0mDF\u001b[0m\u001b[1;33m=\u001b[0m \u001b[0mpd\u001b[0m\u001b[1;33m.\u001b[0m\u001b[0mread_csv\u001b[0m\u001b[1;33m(\u001b[0m\u001b[1;34m'dataset/trainingg.csv'\u001b[0m\u001b[1;33m,\u001b[0m \u001b[0mindex_col\u001b[0m\u001b[1;33m=\u001b[0m\u001b[1;34m'prognosis'\u001b[0m\u001b[1;33m)\u001b[0m\u001b[1;33m\u001b[0m\u001b[1;33m\u001b[0m\u001b[0m\n\u001b[0;32m      4\u001b[0m \u001b[1;31m#Replace the values in the imported file by pandas by the inbuilt function replace in pandas.\u001b[0m\u001b[1;33m\u001b[0m\u001b[1;33m\u001b[0m\u001b[0m\n\u001b[0;32m      5\u001b[0m \u001b[1;33m\u001b[0m\u001b[0m\n",
      "\u001b[1;32m~\\anaconda3\\lib\\site-packages\\pandas\\util\\_decorators.py\u001b[0m in \u001b[0;36mwrapper\u001b[1;34m(*args, **kwargs)\u001b[0m\n\u001b[0;32m    309\u001b[0m                     \u001b[0mstacklevel\u001b[0m\u001b[1;33m=\u001b[0m\u001b[0mstacklevel\u001b[0m\u001b[1;33m,\u001b[0m\u001b[1;33m\u001b[0m\u001b[1;33m\u001b[0m\u001b[0m\n\u001b[0;32m    310\u001b[0m                 )\n\u001b[1;32m--> 311\u001b[1;33m             \u001b[1;32mreturn\u001b[0m \u001b[0mfunc\u001b[0m\u001b[1;33m(\u001b[0m\u001b[1;33m*\u001b[0m\u001b[0margs\u001b[0m\u001b[1;33m,\u001b[0m \u001b[1;33m**\u001b[0m\u001b[0mkwargs\u001b[0m\u001b[1;33m)\u001b[0m\u001b[1;33m\u001b[0m\u001b[1;33m\u001b[0m\u001b[0m\n\u001b[0m\u001b[0;32m    312\u001b[0m \u001b[1;33m\u001b[0m\u001b[0m\n\u001b[0;32m    313\u001b[0m         \u001b[1;32mreturn\u001b[0m \u001b[0mwrapper\u001b[0m\u001b[1;33m\u001b[0m\u001b[1;33m\u001b[0m\u001b[0m\n",
      "\u001b[1;32m~\\anaconda3\\lib\\site-packages\\pandas\\io\\parsers\\readers.py\u001b[0m in \u001b[0;36mread_csv\u001b[1;34m(filepath_or_buffer, sep, delimiter, header, names, index_col, usecols, squeeze, prefix, mangle_dupe_cols, dtype, engine, converters, true_values, false_values, skipinitialspace, skiprows, skipfooter, nrows, na_values, keep_default_na, na_filter, verbose, skip_blank_lines, parse_dates, infer_datetime_format, keep_date_col, date_parser, dayfirst, cache_dates, iterator, chunksize, compression, thousands, decimal, lineterminator, quotechar, quoting, doublequote, escapechar, comment, encoding, encoding_errors, dialect, error_bad_lines, warn_bad_lines, on_bad_lines, delim_whitespace, low_memory, memory_map, float_precision, storage_options)\u001b[0m\n\u001b[0;32m    676\u001b[0m     \u001b[0mkwds\u001b[0m\u001b[1;33m.\u001b[0m\u001b[0mupdate\u001b[0m\u001b[1;33m(\u001b[0m\u001b[0mkwds_defaults\u001b[0m\u001b[1;33m)\u001b[0m\u001b[1;33m\u001b[0m\u001b[1;33m\u001b[0m\u001b[0m\n\u001b[0;32m    677\u001b[0m \u001b[1;33m\u001b[0m\u001b[0m\n\u001b[1;32m--> 678\u001b[1;33m     \u001b[1;32mreturn\u001b[0m \u001b[0m_read\u001b[0m\u001b[1;33m(\u001b[0m\u001b[0mfilepath_or_buffer\u001b[0m\u001b[1;33m,\u001b[0m \u001b[0mkwds\u001b[0m\u001b[1;33m)\u001b[0m\u001b[1;33m\u001b[0m\u001b[1;33m\u001b[0m\u001b[0m\n\u001b[0m\u001b[0;32m    679\u001b[0m \u001b[1;33m\u001b[0m\u001b[0m\n\u001b[0;32m    680\u001b[0m \u001b[1;33m\u001b[0m\u001b[0m\n",
      "\u001b[1;32m~\\anaconda3\\lib\\site-packages\\pandas\\io\\parsers\\readers.py\u001b[0m in \u001b[0;36m_read\u001b[1;34m(filepath_or_buffer, kwds)\u001b[0m\n\u001b[0;32m    573\u001b[0m \u001b[1;33m\u001b[0m\u001b[0m\n\u001b[0;32m    574\u001b[0m     \u001b[1;31m# Create the parser.\u001b[0m\u001b[1;33m\u001b[0m\u001b[1;33m\u001b[0m\u001b[0m\n\u001b[1;32m--> 575\u001b[1;33m     \u001b[0mparser\u001b[0m \u001b[1;33m=\u001b[0m \u001b[0mTextFileReader\u001b[0m\u001b[1;33m(\u001b[0m\u001b[0mfilepath_or_buffer\u001b[0m\u001b[1;33m,\u001b[0m \u001b[1;33m**\u001b[0m\u001b[0mkwds\u001b[0m\u001b[1;33m)\u001b[0m\u001b[1;33m\u001b[0m\u001b[1;33m\u001b[0m\u001b[0m\n\u001b[0m\u001b[0;32m    576\u001b[0m \u001b[1;33m\u001b[0m\u001b[0m\n\u001b[0;32m    577\u001b[0m     \u001b[1;32mif\u001b[0m \u001b[0mchunksize\u001b[0m \u001b[1;32mor\u001b[0m \u001b[0miterator\u001b[0m\u001b[1;33m:\u001b[0m\u001b[1;33m\u001b[0m\u001b[1;33m\u001b[0m\u001b[0m\n",
      "\u001b[1;32m~\\anaconda3\\lib\\site-packages\\pandas\\io\\parsers\\readers.py\u001b[0m in \u001b[0;36m__init__\u001b[1;34m(self, f, engine, **kwds)\u001b[0m\n\u001b[0;32m    930\u001b[0m \u001b[1;33m\u001b[0m\u001b[0m\n\u001b[0;32m    931\u001b[0m         \u001b[0mself\u001b[0m\u001b[1;33m.\u001b[0m\u001b[0mhandles\u001b[0m\u001b[1;33m:\u001b[0m \u001b[0mIOHandles\u001b[0m \u001b[1;33m|\u001b[0m \u001b[1;32mNone\u001b[0m \u001b[1;33m=\u001b[0m \u001b[1;32mNone\u001b[0m\u001b[1;33m\u001b[0m\u001b[1;33m\u001b[0m\u001b[0m\n\u001b[1;32m--> 932\u001b[1;33m         \u001b[0mself\u001b[0m\u001b[1;33m.\u001b[0m\u001b[0m_engine\u001b[0m \u001b[1;33m=\u001b[0m \u001b[0mself\u001b[0m\u001b[1;33m.\u001b[0m\u001b[0m_make_engine\u001b[0m\u001b[1;33m(\u001b[0m\u001b[0mf\u001b[0m\u001b[1;33m,\u001b[0m \u001b[0mself\u001b[0m\u001b[1;33m.\u001b[0m\u001b[0mengine\u001b[0m\u001b[1;33m)\u001b[0m\u001b[1;33m\u001b[0m\u001b[1;33m\u001b[0m\u001b[0m\n\u001b[0m\u001b[0;32m    933\u001b[0m \u001b[1;33m\u001b[0m\u001b[0m\n\u001b[0;32m    934\u001b[0m     \u001b[1;32mdef\u001b[0m \u001b[0mclose\u001b[0m\u001b[1;33m(\u001b[0m\u001b[0mself\u001b[0m\u001b[1;33m)\u001b[0m\u001b[1;33m:\u001b[0m\u001b[1;33m\u001b[0m\u001b[1;33m\u001b[0m\u001b[0m\n",
      "\u001b[1;32m~\\anaconda3\\lib\\site-packages\\pandas\\io\\parsers\\readers.py\u001b[0m in \u001b[0;36m_make_engine\u001b[1;34m(self, f, engine)\u001b[0m\n\u001b[0;32m   1214\u001b[0m             \u001b[1;31m# \"Union[str, PathLike[str], ReadCsvBuffer[bytes], ReadCsvBuffer[str]]\"\u001b[0m\u001b[1;33m\u001b[0m\u001b[1;33m\u001b[0m\u001b[0m\n\u001b[0;32m   1215\u001b[0m             \u001b[1;31m# , \"str\", \"bool\", \"Any\", \"Any\", \"Any\", \"Any\", \"Any\"\u001b[0m\u001b[1;33m\u001b[0m\u001b[1;33m\u001b[0m\u001b[0m\n\u001b[1;32m-> 1216\u001b[1;33m             self.handles = get_handle(  # type: ignore[call-overload]\n\u001b[0m\u001b[0;32m   1217\u001b[0m                 \u001b[0mf\u001b[0m\u001b[1;33m,\u001b[0m\u001b[1;33m\u001b[0m\u001b[1;33m\u001b[0m\u001b[0m\n\u001b[0;32m   1218\u001b[0m                 \u001b[0mmode\u001b[0m\u001b[1;33m,\u001b[0m\u001b[1;33m\u001b[0m\u001b[1;33m\u001b[0m\u001b[0m\n",
      "\u001b[1;32m~\\anaconda3\\lib\\site-packages\\pandas\\io\\common.py\u001b[0m in \u001b[0;36mget_handle\u001b[1;34m(path_or_buf, mode, encoding, compression, memory_map, is_text, errors, storage_options)\u001b[0m\n\u001b[0;32m    784\u001b[0m         \u001b[1;32mif\u001b[0m \u001b[0mioargs\u001b[0m\u001b[1;33m.\u001b[0m\u001b[0mencoding\u001b[0m \u001b[1;32mand\u001b[0m \u001b[1;34m\"b\"\u001b[0m \u001b[1;32mnot\u001b[0m \u001b[1;32min\u001b[0m \u001b[0mioargs\u001b[0m\u001b[1;33m.\u001b[0m\u001b[0mmode\u001b[0m\u001b[1;33m:\u001b[0m\u001b[1;33m\u001b[0m\u001b[1;33m\u001b[0m\u001b[0m\n\u001b[0;32m    785\u001b[0m             \u001b[1;31m# Encoding\u001b[0m\u001b[1;33m\u001b[0m\u001b[1;33m\u001b[0m\u001b[0m\n\u001b[1;32m--> 786\u001b[1;33m             handle = open(\n\u001b[0m\u001b[0;32m    787\u001b[0m                 \u001b[0mhandle\u001b[0m\u001b[1;33m,\u001b[0m\u001b[1;33m\u001b[0m\u001b[1;33m\u001b[0m\u001b[0m\n\u001b[0;32m    788\u001b[0m                 \u001b[0mioargs\u001b[0m\u001b[1;33m.\u001b[0m\u001b[0mmode\u001b[0m\u001b[1;33m,\u001b[0m\u001b[1;33m\u001b[0m\u001b[1;33m\u001b[0m\u001b[0m\n",
      "\u001b[1;31mFileNotFoundError\u001b[0m: [Errno 2] No such file or directory: 'dataset/trainingg.csv'"
     ]
    }
   ],
   "source": [
    "#Reading the training .csv file\n",
    "df=pd.read_csv(\"dataset/trainingg.csv\")\n",
    "DF= pd.read_csv('dataset/trainingg.csv', index_col='prognosis')\n",
    "#Replace the values in the imported file by pandas by the inbuilt function replace in pandas.\n",
    "\n",
    "df.replace({'prognosis':{'Fungal infection':0,'Allergy':1,'Hypertension ':2,'Migraine':3,'Cervical spondylosis':4,\n",
    "    'Common Cold':5,'Acne':6}},inplace=True)\n",
    "#df.head()\n",
    "#DF.head()"
   ]
  },
  {
   "cell_type": "code",
   "execution_count": null,
   "metadata": {},
   "outputs": [],
   "source": [
    "X= df[l1]\n",
    "y = df[[\"prognosis\"]]\n",
    "np.ravel(y)\n",
    "print(X)"
   ]
  },
  {
   "cell_type": "code",
   "execution_count": null,
   "metadata": {},
   "outputs": [],
   "source": [
    "print(y)"
   ]
  },
  {
   "cell_type": "code",
   "execution_count": null,
   "metadata": {},
   "outputs": [],
   "source": [
    "#Reading the  testing.csv file\n",
    "tr=pd.read_csv(\"dataset/testing.csv\")\n",
    "\n",
    "#Using inbuilt function replace in pandas for replacing the values\n",
    "\n",
    "tr.replace({'prognosis':{'Fungal infection':0,'Allergy':1,'Hypertension ':2,'Migraine':3,'Cervical spondylosis':4,\n",
    "    'Common Cold':5,'Acne':6}},inplace=True)\n",
    "tr.head()"
   ]
  },
  {
   "cell_type": "code",
   "execution_count": null,
   "metadata": {},
   "outputs": [],
   "source": [
    "tr"
   ]
  },
  {
   "cell_type": "code",
   "execution_count": null,
   "metadata": {},
   "outputs": [],
   "source": [
    "X_test= tr[l1]\n",
    "y_test = tr[[\"prognosis\"]]\n",
    "np.ravel(y_test)\n",
    "print(X_test)"
   ]
  },
  {
   "cell_type": "code",
   "execution_count": null,
   "metadata": {},
   "outputs": [],
   "source": [
    "print(y_test)"
   ]
  },
  {
   "cell_type": "markdown",
   "metadata": {},
   "source": [
    "**To build the precision of the model, we utilized three distinctive algorithms which are as per the following**\n",
    "* Decision Tree algorithm\n",
    "* Random Forest algorithm\n",
    "* KNearestNeighbour algorithm\n",
    "* Naive Bayes algorithm"
   ]
  },
  {
   "cell_type": "code",
   "execution_count": null,
   "metadata": {},
   "outputs": [],
   "source": [
    "#list1 = DF['prognosis'].unique()\n",
    "def scatterplt(disea):\n",
    "    x = ((DF.loc[disea]).sum())#total sum of symptom reported for given disease\n",
    "    x.drop(x[x==0].index,inplace=True)#droping symptoms with values 0\n",
    "    print(x.values)\n",
    "    y = x.keys()#storing nameof symptoms in y\n",
    "    print(len(x))\n",
    "    print(len(y))\n",
    "    plt.title(disea)\n",
    "    plt.scatter(y,x.values)\n",
    "    plt.show()\n",
    "\n",
    "def scatterinp(sym1,sym2,sym3,sym4,sym5):\n",
    "    x = [sym1,sym2,sym3,sym4,sym5]#storing input symptoms in y\n",
    "    y = [0,0,0,0,0]#creating and giving values to the input symptoms\n",
    "    if(sym1!='Select Here'):\n",
    "        y[0]=1\n",
    "    if(sym2!='Select Here'):\n",
    "        y[1]=1\n",
    "    if(sym3!='Select Here'):\n",
    "        y[2]=1\n",
    "    if(sym4!='Select Here'):\n",
    "        y[3]=1\n",
    "    if(sym5!='Select Here'):\n",
    "        y[4]=1\n",
    "    print(x)\n",
    "    print(y)\n",
    "    plt.scatter(x,y)\n",
    "    plt.show()"
   ]
  },
  {
   "cell_type": "markdown",
   "metadata": {},
   "source": [
    "# Decision Tree Algorithm"
   ]
  },
  {
   "cell_type": "code",
   "execution_count": null,
   "metadata": {},
   "outputs": [],
   "source": [
    "from sklearn import tree"
   ]
  },
  {
   "cell_type": "code",
   "execution_count": null,
   "metadata": {},
   "outputs": [],
   "source": [
    "root = Tk()\n",
    "pred1=StringVar()\n",
    "def DecisionTree():\n",
    "    if len(NameEn.get()) == 0:\n",
    "        pred1.set(\" \")\n",
    "        comp=messagebox.askokcancel(\"System\",\"Kindly Fill the Name\")\n",
    "        if comp:\n",
    "            root.mainloop()\n",
    "    elif((Symptom1.get()==\"Select Here\") or (Symptom2.get()==\"Select Here\")):\n",
    "        pred1.set(\" \")\n",
    "        sym=messagebox.askokcancel(\"System\",\"Kindly Fill atleast first two Symptoms\")\n",
    "        if sym:\n",
    "            root.mainloop()\n",
    "    else:\n",
    "        from sklearn import tree\n",
    "\n",
    "        clf3 = tree.DecisionTreeClassifier() \n",
    "        clf3 = clf3.fit(X,y)\n",
    "\n",
    "        from sklearn.metrics import classification_report,confusion_matrix,accuracy_score\n",
    "        y_pred=clf3.predict(X_test)\n",
    "        print(\"Decision Tree\")\n",
    "        print(\"Accuracy\")\n",
    "        print(accuracy_score(y_test, y_pred))\n",
    "        print(accuracy_score(y_test, y_pred,normalize=False))\n",
    "        print(\"Confusion matrix\")\n",
    "        conf_matrix=confusion_matrix(y_test,y_pred)\n",
    "        print(conf_matrix)\n",
    "\n",
    "        psymptoms = [Symptom1.get(),Symptom2.get(),Symptom3.get(),Symptom4.get(),Symptom5.get()]\n",
    "\n",
    "        for k in range(0,len(l1)):\n",
    "            for z in psymptoms:\n",
    "                if(z==l1[k]):\n",
    "                    l2[k]=1\n",
    "\n",
    "        inputtest = [l2]\n",
    "        predict = clf3.predict(inputtest)\n",
    "        predicted=predict[0]\n",
    "\n",
    "        h='no'\n",
    "        for a in range(0,len(disease)):\n",
    "            if(predicted == a):\n",
    "                h='yes'\n",
    "                break\n",
    "\n",
    "    \n",
    "        if (h=='yes'):\n",
    "            pred1.set(\" \")\n",
    "            pred1.set(disease[a])\n",
    "        else:\n",
    "            pred1.set(\" \")\n",
    "            pred1.set(\"Not Found\")\n",
    "        "
   ]
  },
  {
   "cell_type": "code",
   "execution_count": null,
   "metadata": {},
   "outputs": [],
   "source": []
  },
  {
   "cell_type": "markdown",
   "metadata": {},
   "source": [
    "# KNearestNeighbour Algorithm"
   ]
  },
  {
   "cell_type": "code",
   "execution_count": null,
   "metadata": {},
   "outputs": [],
   "source": [
    "pred4=StringVar()\n",
    "def KNN():\n",
    "    if len(NameEn.get()) == 0:\n",
    "        pred1.set(\" \")\n",
    "        comp=messagebox.askokcancel(\"System\",\"Kindly Fill the Name\")\n",
    "        if comp:\n",
    "            root.mainloop()\n",
    "    elif((Symptom1.get()==\"Select Here\") or (Symptom2.get()==\"Select Here\")):\n",
    "        pred1.set(\" \")\n",
    "        sym=messagebox.askokcancel(\"System\",\"Kindly Fill atleast first two Symptoms\")\n",
    "        if sym:\n",
    "            root.mainloop()\n",
    "    else:\n",
    "        from sklearn.neighbors import KNeighborsClassifier\n",
    "        knn=KNeighborsClassifier(n_neighbors=5,metric='minkowski',p=2)\n",
    "        knn=knn.fit(X,np.ravel(y))\n",
    "    \n",
    "        from sklearn.metrics import classification_report,confusion_matrix,accuracy_score\n",
    "        y_pred=knn.predict(X_test)\n",
    "        print(\"kNearest Neighbour\")\n",
    "        print(\"Accuracy\")\n",
    "        print(accuracy_score(y_test, y_pred))\n",
    "        print(accuracy_score(y_test, y_pred,normalize=False))\n",
    "        print(\"Confusion matrix\")\n",
    "        conf_matrix=confusion_matrix(y_test,y_pred)\n",
    "        print(conf_matrix)\n",
    "\n",
    "        psymptoms = [Symptom1.get(),Symptom2.get(),Symptom3.get(),Symptom4.get(),Symptom5.get()]\n",
    "\n",
    "        for k in range(0,len(l1)):\n",
    "            for z in psymptoms:\n",
    "                if(z==l1[k]):\n",
    "                    l2[k]=1\n",
    "\n",
    "        inputtest = [l2]\n",
    "        predict = knn.predict(inputtest)\n",
    "        predicted=predict[0]\n",
    "\n",
    "        h='no'\n",
    "        for a in range(0,len(disease)):\n",
    "            if(predicted == a):\n",
    "                h='yes'\n",
    "                break\n",
    "\n",
    "\n",
    "        if (h=='yes'):\n",
    "            pred4.set(\" \")\n",
    "            pred4.set(disease[a])\n",
    "        else:\n",
    "            pred4.set(\" \")\n",
    "            pred4.set(\"Not Found\")\n",
    "         \n",
    "        \n",
    "        scatterplt(pred4.get())"
   ]
  },
  {
   "cell_type": "markdown",
   "metadata": {},
   "source": [
    "# Naive Bayes Algorithm"
   ]
  },
  {
   "cell_type": "code",
   "execution_count": null,
   "metadata": {},
   "outputs": [],
   "source": [
    "pred3=StringVar()\n",
    "def NaiveBayes():\n",
    "    if len(NameEn.get()) == 0:\n",
    "        pred1.set(\" \")\n",
    "        comp=messagebox.askokcancel(\"System\",\"Kindly Fill the Name\")\n",
    "        if comp:\n",
    "            root.mainloop()\n",
    "    elif((Symptom1.get()==\"Select Here\") or (Symptom2.get()==\"Select Here\")):\n",
    "        pred1.set(\" \")\n",
    "        sym=messagebox.askokcancel(\"System\",\"Kindly Fill atleast first two Symptoms\")\n",
    "        if sym:\n",
    "            root.mainloop()\n",
    "    else:\n",
    "        from sklearn.naive_bayes import GaussianNB\n",
    "        gnb = GaussianNB()\n",
    "        gnb=gnb.fit(X,np.ravel(y))\n",
    "\n",
    "        from sklearn.metrics import classification_report,confusion_matrix,accuracy_score\n",
    "        y_pred=gnb.predict(X_test)\n",
    "        print(\"Naive Bayes\")\n",
    "        print(\"Accuracy\")\n",
    "        print(accuracy_score(y_test, y_pred))\n",
    "        print(accuracy_score(y_test, y_pred,normalize=False))\n",
    "        print(\"Confusion matrix\")\n",
    "        conf_matrix=confusion_matrix(y_test,y_pred)\n",
    "        print(conf_matrix)\n",
    "\n",
    "        psymptoms = [Symptom1.get(),Symptom2.get(),Symptom3.get(),Symptom4.get(),Symptom5.get()]\n",
    "        for k in range(0,len(l1)):\n",
    "            for z in psymptoms:\n",
    "                if(z==l1[k]):\n",
    "                    l2[k]=1\n",
    "\n",
    "        inputtest = [l2]\n",
    "        predict = gnb.predict(inputtest)\n",
    "        predicted=predict[0]\n",
    "\n",
    "        h='no'\n",
    "        for a in range(0,len(disease)):\n",
    "            if(predicted == a):\n",
    "                h='yes'\n",
    "                break\n",
    "        if (h=='yes'):\n",
    "            pred3.set(\" \")\n",
    "            pred3.set(disease[a])\n",
    "        else:\n",
    "            pred3.set(\" \")\n",
    "            pred3.set(\"Not Found\")\n",
    "         #Creating the database if not exists named as database.db and creating table if not exists named as NaiveBayes using sqlite3\n",
    "        import sqlite3 \n",
    "        conn = sqlite3.connect('database.db') \n",
    "        c = conn.cursor() \n",
    "        c.execute(\"CREATE TABLE IF NOT EXISTS NaiveBayes(Name StringVar,Symtom1 StringVar,Symtom2 StringVar,Symtom3 StringVar,Symtom4 TEXT,Symtom5 TEXT,Disease StringVar)\")\n",
    "        c.execute(\"INSERT INTO NaiveBayes(Name, Symtom1, Symtom2, Symtom3, Symtom4, Symtom5, Disease) VALUES(?,?,?,?,?,?,?)\", (NameEn.get(), Symptom1.get(), Symptom2.get(), Symptom3.get(), Symptom4.get(), Symptom5.get(), pred3.get()))\n",
    "        conn.commit()  \n",
    "        c.close() \n",
    "        conn.close()\n",
    "        #printing scatter plot of disease predicted vs its symptoms\n",
    "        scatterplt(pred3.get())"
   ]
  },
  {
   "cell_type": "code",
   "execution_count": null,
   "metadata": {},
   "outputs": [],
   "source": [
    "conn"
   ]
  },
  {
   "cell_type": "markdown",
   "metadata": {},
   "source": [
    "# Building Graphical User Interface"
   ]
  },
  {
   "cell_type": "code",
   "execution_count": null,
   "metadata": {},
   "outputs": [],
   "source": [
    "#Tk class is used to create a root window\n",
    "root.configure(background='#FDF4F5')\n",
    "root.title('Health Engine')\n",
    "root.resizable(0,0)"
   ]
  },
  {
   "cell_type": "code",
   "execution_count": null,
   "metadata": {},
   "outputs": [],
   "source": [
    "Symptom1 = StringVar()\n",
    "Symptom1.set(\"Select Here\")\n",
    "\n",
    "Symptom2 = StringVar()\n",
    "Symptom2.set(\"Select Here\")\n",
    "\n",
    "Symptom3 = StringVar()\n",
    "Symptom3.set(\"Select Here\")\n",
    "\n",
    "Symptom4 = StringVar()\n",
    "Symptom4.set(\"Select Here\")\n",
    "\n",
    "Symptom5 = StringVar()\n",
    "Symptom5.set(\"Select Here\")\n",
    "Name = StringVar()"
   ]
  },
  {
   "cell_type": "code",
   "execution_count": null,
   "metadata": {},
   "outputs": [],
   "source": [
    "prev_win=None\n",
    "def Reset():\n",
    "    global prev_win\n",
    "\n",
    "    Symptom1.set(\"Select Here\")\n",
    "    Symptom2.set(\"Select Here\")\n",
    "    Symptom3.set(\"Select Here\")\n",
    "    Symptom4.set(\"Select Here\")\n",
    "    Symptom5.set(\"Select Here\")\n",
    "    NameEn.delete(first=0,last=100)\n",
    "    pred1.set(\" \")\n",
    "    pred2.set(\" \")\n",
    "    pred3.set(\" \")\n",
    "    pred4.set(\" \")\n",
    "    try:\n",
    "        prev_win.destroy()\n",
    "        prev_win=None\n",
    "    except AttributeError:\n",
    "        pass"
   ]
  },
  {
   "cell_type": "code",
   "execution_count": null,
   "metadata": {},
   "outputs": [],
   "source": [
    "from tkinter import messagebox\n",
    "def Exit():\n",
    "    qExit=messagebox.askyesno(\"System\",\"Do you want to exit the system\")\n",
    "    \n",
    "    if qExit:\n",
    "        root.destroy()\n",
    "        exit()"
   ]
  },
  {
   "cell_type": "code",
   "execution_count": null,
   "metadata": {},
   "outputs": [],
   "source": [
    "#Headings for the GUI written at the top of GUI\n",
    "w2 = Label(root, justify=CENTER, text=\"Disease Predictor using Machine Learning\", fg=\"#FDF4F5\", bg=\"#FDF4F5\")\n",
    "w2.config(font=(\"Times\",30,\"bold italic\"))\n",
    "w2.grid(row=1, column=0, columnspan=2, padx=150)\n",
    "\n",
    "w3 = Label(root, justify=CENTER, text=\"Health Engine\", fg=\"#181D31\", bg=\"#FDF4F5\")\n",
    "w3.config(font=(\"Times\",30,\"bold italic\"))\n",
    "w3.place(x=450, y=5)\n",
    "\n",
    "#w2 = Label(root, justify=LEFT, text=\"Contributors: Sudhanshu,Rohan,Aditya\", fg=\"#181D31\", bg=\"#F0E9D2\")\n",
    "#w2.config(font=(\"Times\",30,\"bold italic\"))\n",
    "#w2.grid(row=2, column=0, columnspan=2, padx=100)"
   ]
  },
  {
   "cell_type": "code",
   "execution_count": null,
   "metadata": {},
   "outputs": [],
   "source": [
    "#Label for the name\n",
    "NameLb = Label(root, text=\"Name of the Patient *\", fg=\"#181D31\", bg=\"#FDF4F5\")\n",
    "NameLb.config(font=(\"Times\",15,\"bold italic\"))\n",
    "NameLb.grid(row=9, column=0, pady=15, sticky=W)"
   ]
  },
  {
   "cell_type": "code",
   "execution_count": null,
   "metadata": {},
   "outputs": [],
   "source": [
    "\n",
    "#Creating Labels for the symtoms\n",
    "S1Lb = Label(root, text=\"Symptom 1 *\", fg=\"#181D31\", bg=\"#FDF4F5\")\n",
    "S1Lb.config(font=(\"Times\",15,\"bold italic\"))\n",
    "S1Lb.grid(row=10, column=0, pady=10, sticky=W)\n",
    "\n",
    "S2Lb = Label(root, text=\"Symptom 2 *\", fg=\"#181D31\", bg=\"#FDF4F5\")\n",
    "S2Lb.config(font=(\"Times\",15,\"bold italic\"))\n",
    "S2Lb.grid(row=11, column=0, pady=10, sticky=W)\n",
    "\n",
    "S3Lb = Label(root, text=\"Symptom 3\", fg=\"#181D31\",bg=\"#FDF4F5\")\n",
    "S3Lb.config(font=(\"Times\",15,\"bold italic\"))\n",
    "S3Lb.grid(row=12, column=0, pady=10, sticky=W)\n",
    "\n",
    "S4Lb = Label(root, text=\"Symptom 4\", fg=\"#181D31\", bg=\"#FDF4F5\")\n",
    "S4Lb.config(font=(\"Times\",15,\"bold italic\"))\n",
    "S4Lb.grid(row=13, column=0, pady=10, sticky=W)\n",
    "\n",
    "S5Lb = Label(root, text=\"Symptom 5\", fg=\"#181D31\", bg=\"#FDF4F5\")\n",
    "S5Lb.config(font=(\"Times\",15,\"bold italic\"))\n",
    "S5Lb.grid(row=14, column=0, pady=10, sticky=W)"
   ]
  },
  {
   "cell_type": "code",
   "execution_count": null,
   "metadata": {},
   "outputs": [],
   "source": [
    "#Labels for the different algorithms\n",
    "lrLb = Label(root, text=\"DecisionTree\", fg=\"#181D31\", bg=\"#BA90C6\", width = 20)\n",
    "lrLb.config(font=(\"Times\",15,\"bold italic\"))\n",
    "lrLb.grid(row=15, column=0, pady=10,sticky=W)\n",
    "\n",
    "\n",
    "ranfLb = Label(root, text=\"NaiveBayes\", fg=\"#181D31\", bg=\"#BA90C6\", width = 20)\n",
    "ranfLb.config(font=(\"Times\",15,\"bold italic\"))\n",
    "ranfLb.grid(row=19, column=0, pady=10, sticky=W)\n",
    "\n",
    "knnLb = Label(root, text=\"kNearestNeighbour\", fg=\"#181D31\", bg=\"#BA90C6\", width = 20)\n",
    "knnLb.config(font=(\"Times\",15,\"bold italic\"))\n",
    "knnLb.grid(row=21, column=0, pady=10, sticky=W)\n",
    "OPTIONS = sorted(l1)"
   ]
  },
  {
   "cell_type": "code",
   "execution_count": null,
   "metadata": {},
   "outputs": [],
   "source": [
    "#Taking name as input from user\n",
    "NameEn = Entry(root, textvariable=Name)\n",
    "NameEn.grid(row=9, column=1)\n",
    "\n",
    "#Taking Symptoms as input from the dropdown from the user\n",
    "S1 = OptionMenu(root, Symptom1,*OPTIONS)\n",
    "S1.grid(row=10, column=1)\n",
    "\n",
    "S2 = OptionMenu(root, Symptom2,*OPTIONS)\n",
    "S2.grid(row=11, column=1)\n",
    "\n",
    "S3 = OptionMenu(root, Symptom3,*OPTIONS)\n",
    "S3.grid(row=12, column=1)\n",
    "\n",
    "S4 = OptionMenu(root, Symptom4,*OPTIONS)\n",
    "S4.grid(row=13, column=1)\n",
    "\n",
    "S5 = OptionMenu(root, Symptom5,*OPTIONS)\n",
    "S5.grid(row=14, column=1)"
   ]
  },
  {
   "cell_type": "code",
   "execution_count": null,
   "metadata": {},
   "outputs": [],
   "source": [
    "#Buttons for predicting the disease using different algorithms\n",
    "dst = Button(root, text=\"Prediction 1\", command=DecisionTree,bg=\"#BA90C6\",fg=\"#181D31\")\n",
    "dst.config(font=(\"Times\",15,\"bold italic\"))\n",
    "dst.grid(row=11, column=2,padx=10)\n",
    "\n",
    "\n",
    "lr = Button(root, text=\"Prediction 2\", command=NaiveBayes,bg=\"#BA90C6\",fg=\"#181D31\")\n",
    "lr.config(font=(\"Times\",15,\"bold italic\"))\n",
    "lr.grid(row=12, column=2,padx=10)\n",
    "\n",
    "kn = Button(root, text=\"Prediction 3\", command=KNN,bg=\"#BA90C6\",fg=\"#181D31\")\n",
    "kn.config(font=(\"Times\",15,\"bold italic\"))\n",
    "kn.grid(row=13, column=2, padx=10)\n",
    "\n",
    "rs = Button(root,text=\"Reset Inputs\", command=Reset,bg=\"#BA90C6\",fg=\"#181D31\",width=15)\n",
    "rs.config(font=(\"Times\",15,\"bold italic\"))\n",
    "rs.place(x=400, y=547)\n",
    "\n",
    "ex = Button(root,text=\"Exit System\", command=Exit,bg=\"#BA90C6\",fg=\"#181D31\",width=15)\n",
    "ex.config(font=(\"Times\",15,\"bold italic\"))\n",
    "ex.place(x=600, y=547)\n",
    "\n",
    "extra = Label(root, text=\"Symptom 1 *\", fg=\"#FDF4F5\", bg=\"#FDF4F5\")\n",
    "extra.config(font=(\"Times\",15,\"bold italic\"))\n",
    "extra.grid(row=25,column=2,pady=5)\n",
    "\n",
    "extra = Label(root, text=\"Symptom 1 *\", fg=\"#FDF4F5\", bg=\"#FDF4F5\")\n",
    "extra.config(font=(\"Times\",15,\"bold italic\"))\n",
    "extra.grid(row=26,column=2,pady=5)\n",
    "\n",
    "extra = Label(root, text=\"Symptom 1 *\", fg=\"#FDF4F5\", bg=\"#FDF4F5\")\n",
    "extra.config(font=(\"Times\",15,\"bold italic\"))\n",
    "extra.grid(row=27,column=2,pady=5)\n",
    "\n"
   ]
  },
  {
   "cell_type": "code",
   "execution_count": null,
   "metadata": {},
   "outputs": [],
   "source": [
    "#Showing the output of different aldorithms\n",
    "t1=Label(root,font=(\"Times\",15,\"bold italic\"),text=\"Decision Tree\",height=1,bg=\"#FFFFFF\", fg=\"#181D31\"\n",
    "         ,width=40,textvariable=pred1,relief=\"sunken\").grid(row=15, column=1, padx=10)\n",
    "\n",
    "t3=Label(root,font=(\"Times\",15,\"bold italic\"),text=\"Naive Bayes\",height=1,bg=\"#FFFFFF\", fg=\"#181D31\"\n",
    "         ,width=40,textvariable=pred3,relief=\"sunken\").grid(row=19, column=1, padx=10)\n",
    "\n",
    "t4=Label(root,font=(\"Times\",15,\"bold italic\"),text=\"kNearest Neighbour\",height=1,bg=\"#FFFFFF\", fg=\"#181D31\"\n",
    "         ,width=40,textvariable=pred4,relief=\"sunken\").grid(row=21, column=1, padx=10)"
   ]
  },
  {
   "cell_type": "code",
   "execution_count": null,
   "metadata": {},
   "outputs": [],
   "source": [
    "#calling this function because the application is ready to run\n",
    "root.mainloop()"
   ]
  },
  {
   "cell_type": "code",
   "execution_count": null,
   "metadata": {},
   "outputs": [],
   "source": []
  }
 ],
 "metadata": {
  "kernelspec": {
   "display_name": "Python 3 (ipykernel)",
   "language": "python",
   "name": "python3"
  },
  "language_info": {
   "codemirror_mode": {
    "name": "ipython",
    "version": 3
   },
   "file_extension": ".py",
   "mimetype": "text/x-python",
   "name": "python",
   "nbconvert_exporter": "python",
   "pygments_lexer": "ipython3",
   "version": "3.9.13"
  }
 },
 "nbformat": 4,
 "nbformat_minor": 2
}
